{
 "cells": [
  {
   "cell_type": "code",
   "execution_count": 1,
   "metadata": {
    "pycharm": {}
   },
   "outputs": [
    {
     "name": "stdout",
     "output_type": "stream",
     "text": [
      " Anzahl der Sportartikel im Trainingsdatensatz: 101\n",
      " Anzahl anderer Artikel im Trainingsdatensatz: 699\n"
     ]
    }
   ],
   "source": [
    "import numpy as np\n",
    "\n",
    "from sklearn.metrics import confusion_matrix\n",
    "from ki_deutschkurs.split_articles_into_train_test import read_dataset\n",
    "from ki_deutschkurs.utils import get_texts_by_category, get_boolean_array_from_categories, check_password\n",
    "from ki_deutschkurs.classifier import parse_decision_rule, classify\n",
    "\n",
    "\n",
    "artikel, kategorien = read_dataset(\"train\", \"Sport\")\n",
    "\n",
    "artikel_validation, kategorien_validation = read_dataset(\"val\", \"Sport\")\n",
    "\n",
    "kategorien_validation_bool = get_boolean_array_from_categories(kategorien_validation, \"Sport\")\n",
    "\n",
    "sportartikel = get_texts_by_category(artikel, kategorien, \"Sport\")\n",
    "n_sportartikel = len(sportartikel)\n",
    "print(f\" Anzahl der Sportartikel im Trainingsdatensatz: {n_sportartikel}\")\n",
    "\n",
    "andere_artikel = get_texts_by_category(artikel, kategorien, \"Andere\")\n",
    "n_andere_artikel = len(andere_artikel)\n",
    "print(f\" Anzahl anderer Artikel im Trainingsdatensatz: {n_andere_artikel}\")\n",
    "\n",
    "\n",
    "\n"
   ]
  },
  {
   "cell_type": "code",
   "execution_count": 2,
   "metadata": {},
   "outputs": [
    {
     "name": "stdout",
     "output_type": "stream",
     "text": [
      "Spieler des Abends beim 5:2 der Philadelphia Flyers gegen die NY Islanders – Play-off beginnt für Clubs von Raffl und Vanek am Donnerstag. New York – Der Kärntner Eishockey-Stürmer Michael Raffl hat zum Abschluss des Grunddurchgangs der National Hockey League (NHL) groß aufgespielt. Der 27-Jährige verbuchte am Sonntag beim 5:2-Auswärtssieg gegen die New York Islanders ein Tor und zwei Assists und wurde zum Spieler der Partie gewählt. Raffl und Thomas Vanek (Minnesota Wild) starten am Donnerstag mit ihren Clubs ins Play-off. Raffl brachte die Flyers in der 27. Minute mit 3:2 in Führung und bereitete die weiteren Tore von Scott Laughton (46.) und R.J. Umberger (52./PP) vor. Der Villacher, der zum dritten Mal in seiner NHL-Karriere auf drei Scorerpunkte kam, beendete den Grunddurchgang mit 13 Toren und 18 Assists und war damit fünftbester Torschütze und siebentbester Scorer seines Teams. Da Trainer Dave Hakstol so wie sein Islanders-Gegenüber Jack Capuano am Sonntag einige Leistungsträger schonte, war Raffl der einzige Flyers-Spieler, der alle 82 Partien absolvierte. Für Raffl und die Flyers geht es nun ins Play-off gegen die Washington Capitals, das beste Team des Grunddurchgangs. Die ersten zwei Begegnungen am Donnerstag und Samstag finden in Washington statt. Auch Minnesota startet gegen die Dallas Stars mit zwei Auswärtsspielen am Donnerstag und Samstag. Ob der an einer Oberkörperverletzung laborierende Vanek dabei sein kann, ist allerdings fraglich. (APA, 11.4.2016) NHL-Ergebnisse von Sonntag: New York Islanders – Philadelphia Flyers (1 Tor, 2 Assists Raffl) 2:5Washington Capitals – Anaheim Ducks 0:2 Play-off-Paarungen der ersten Runde (ab Mittwoch): Eastern Conference: Washington Capitals – Philadelphia Flyers (Raffl)Florida Panthers – New York IslandersTampa Bay Lightning – Detroit Red WingsPittsburgh Penguins – New York Rangers Western Conference: Dallas Stars – Minnesota Wild (Vanek)St. Louis Blues – Chicago BlackhawksAnaheim Ducks – Nashville PredatorsLos Angeles Kings – San Jose Sharks\n",
      "\n"
     ]
    }
   ],
   "source": [
    "## Hier bekommt ihr einen zufällig ausgewählten Sportartikel angezeigt\n",
    "idx_sport = np.random.randint(n_sportartikel)\n",
    "print(sportartikel[idx_sport])"
   ]
  },
  {
   "cell_type": "code",
   "execution_count": 3,
   "metadata": {},
   "outputs": [
    {
     "name": "stdout",
     "output_type": "stream",
     "text": [
      "Regierung stimmt russisch-amerikanischem Plan zu, die Opposition ist skeptisch. Die Türkei behält sich ein \"Recht auf Selbstverteidigung\" vor. Damaskus – Die syrische Regierung stimmt dem russisch-amerikanischen Plan für eine Waffenruhe zu. Mit Russland werde jetzt abgesprochen, für welche Gruppen und Gebiete die Vereinbarung gelten solle, erklärte die Regierung am Dienstag. Der Plan sieht eine Waffenruhe vor, die am Samstag beginnen soll. Syrien stimme der Vereinbarung auf der Grundlage zu, dass der Kampf gegen Terrorgruppen wie Islamischer Staat, die Nusra-Front und andere mit ihnen verbundene Organisationen weitergehe, hieß es in der Erklärung. Es sei wichtig, die Grenzen zu schließen und den Nachschub aus dem Ausland für die bewaffneten Aufständischen zu stoppen. Zudem müsse verhindert werden, dass diese Organisationen ihre Kampfkraft erhöhen und sich umgruppieren. Sollte das nicht gelingen, könne die Vereinbarung scheitern. Das syrische Militär behalte sich das Recht vor, auf Verletzungen des Abkommens zu reagieren, die gegen syrische Bürger oder die Streitkräfte gerichtet seien. Die Opposition zeigte sich skeptisch. Der Präsident der Syrischen Nationalkoalition, Khaled Khoja, sagte, ein Problem sei, dass die Angriffe auf Islamistengruppen weitergehen sollen. Damit könnten Zivilisten oder die Freie Syrische Armee unter dem Vorwand von Angriffen auf Nusra ins Visier genommen werden. Auch Bashar al-Zoubi von der Freien Syrischen Armee zeigte sich aus diesem Grund skeptisch. Russland und die syrische Regierung würden diese Passage als Vorwand nutzen, um weiter die Opposition anzugreifen. Die türkische Regierung äußerte Zweifel an der Durchsetzbarkeit der Waffenruhe. Wir sind nicht optimistisch, sagte Ministerpräsident Ahmet Davutoğlu am Dienstag dem Fernsehsender Al-Jazeera. Die Türkei behalte sich Vergeltungsschläge in Syrien wegen des Anschlags in Ankara vergangene Woche vor. Die USA und Russland hatten sich am Montag auf die Feuerpause in Syrien geeinigt. Angriffe auf Milizen, die von der Uno als Terrorgruppen eingestuft werden, dürfen aber weitergehen. Dazu zählen die zu Al-Kaida gehörende Nusra-Front und der IS. Mutmaßlich russische Kampfflugzeuge griffen der oppositionsnahen Syrischen Beobachtungsstelle für Menschenrechte zufolge am Dienstag eine der letzten noch offenen Nachschubrouten in die von Aufständischen kontrollierten Teile von Aleppo an. Regierungstruppen und verbündete Milizen aus dem Libanon und dem Iran haben im Zuge der jüngsten Offensive bereits die meisten Routen aus der Türkei gekappt. Kurz nach Bekanntwerden des Plans zu der Feuerpause setzte Präsident Bashar al-Assad für den 13. April eine Parlamentswahl an. Der UN-Sicherheitsrat hatte im Dezember in einer Resolution verlangt, dass binnen 18 Monaten eine Parlamentswahl auf der Basis einer neuen Verfassung stattfindet. Die Wahl müsse zudem von den UN begleitet werden.\n",
      "\n"
     ]
    }
   ],
   "source": [
    "## Hier bekommt ihr einen zufällig ausgewählten anderen Sportartikel angezeigt\n",
    "idx_andere = np.random.randint(n_andere_artikel)\n",
    "print(andere_artikel[idx_andere])"
   ]
  },
  {
   "cell_type": "code",
   "execution_count": 5,
   "metadata": {},
   "outputs": [
    {
     "name": "stdout",
     "output_type": "stream",
     "text": [
      "Zahl der Zeitungsartikel, die richtig als Sportartikel vorhergesagt wurden: 16\n",
      "\n",
      "Zahl der Zeitungsartikel, die richtig als 'Andere Artikel' vorhergesagt wurden: 167\n",
      "\n",
      "Zahl der Zeitungsartikel, die eigentlich Sportartikel sind, \n",
      " aber als 'Andere Artikel' vorhergesagt wurden: 9 (falsch)\n",
      "\n",
      "Zahl der Zeitungsartikel, die eigentlich 'Andere Artikel' sind, \n",
      " aber als Sportartikel vorhergesagt wurden: 8 (falsch) \n",
      "\n",
      "\n",
      "=================\n",
      "Anteil der Artikel, die richtig erkannt wurden: 91.5 % (Genauigkeit)\n"
     ]
    }
   ],
   "source": [
    "## Hier könnt ihr eine Entscheidungsregel definieren\n",
    "\n",
    "Entscheidungsregel = \"\"\"Ball > 0 oder Haus > 0 oder Steuer > 0 und Stadion > 0\"\"\"\n",
    "\n",
    "## Hier könnt ihr eure Entscheidungsregel testen\n",
    "\n",
    "kategorien_vorhersage = classify(artikel_validation, Entscheidungsregel)\n",
    "\n",
    "conf_matrix = confusion_matrix(kategorien_validation_bool, kategorien_vorhersage)\n",
    "\n",
    "print(f\"Zahl der Zeitungsartikel, die richtig als Sportartikel vorhergesagt wurden: {conf_matrix[1,1]}\\n\")\n",
    "print(f\"Zahl der Zeitungsartikel, die richtig als 'Andere Artikel' vorhergesagt wurden: {conf_matrix[0,0]}\\n\")\n",
    "print(f\"Zahl der Zeitungsartikel, die eigentlich Sportartikel sind, \\n aber als 'Andere Artikel' vorhergesagt wurden: {conf_matrix[1,0]} (falsch)\\n\")\n",
    "print(f\"Zahl der Zeitungsartikel, die eigentlich 'Andere Artikel' sind, \\n aber als Sportartikel vorhergesagt wurden: {conf_matrix[0,1]} (falsch) \\n\\n\")\n",
    "print(\"=================\")\n",
    "print(f\"Anteil der Artikel, die richtig erkannt wurden: {100*(conf_matrix[0,0] + conf_matrix[1,1])/ len(artikel_validation)} % (Genauigkeit)\")\n",
    "\n",
    "\n",
    "\n"
   ]
  },
  {
   "cell_type": "code",
   "execution_count": 7,
   "metadata": {},
   "outputs": [
    {
     "ename": "ValueError",
     "evalue": "Das Passwort ist leider falsch!",
     "output_type": "error",
     "traceback": [
      "\u001b[0;31m---------------------------------------------------------------------------\u001b[0m",
      "\u001b[0;31mValueError\u001b[0m                                Traceback (most recent call last)",
      "\u001b[0;32m<ipython-input-7-017b3446d431>\u001b[0m in \u001b[0;36m<module>\u001b[0;34m\u001b[0m\n\u001b[1;32m      3\u001b[0m \u001b[0mpasswort\u001b[0m \u001b[0;34m=\u001b[0m \u001b[0;34m\"\"\u001b[0m\u001b[0;34m\u001b[0m\u001b[0;34m\u001b[0m\u001b[0m\n\u001b[1;32m      4\u001b[0m \u001b[0;34m\u001b[0m\u001b[0m\n\u001b[0;32m----> 5\u001b[0;31m \u001b[0martikel_test\u001b[0m\u001b[0;34m,\u001b[0m \u001b[0mkategorien_test\u001b[0m \u001b[0;34m=\u001b[0m \u001b[0mread_dataset\u001b[0m\u001b[0;34m(\u001b[0m\u001b[0mcheck_password\u001b[0m\u001b[0;34m(\u001b[0m\u001b[0mpasswort\u001b[0m\u001b[0;34m)\u001b[0m\u001b[0;34m,\u001b[0m \u001b[0;34m\"Sport\"\u001b[0m\u001b[0;34m)\u001b[0m\u001b[0;34m\u001b[0m\u001b[0;34m\u001b[0m\u001b[0m\n\u001b[0m\u001b[1;32m      6\u001b[0m \u001b[0mkategorien_test_bool\u001b[0m \u001b[0;34m=\u001b[0m \u001b[0mget_boolean_array_from_categories\u001b[0m\u001b[0;34m(\u001b[0m\u001b[0mkategorien_test\u001b[0m\u001b[0;34m,\u001b[0m \u001b[0;34m\"Sport\"\u001b[0m\u001b[0;34m)\u001b[0m\u001b[0;34m\u001b[0m\u001b[0;34m\u001b[0m\u001b[0m\n\u001b[1;32m      7\u001b[0m \u001b[0;34m\u001b[0m\u001b[0m\n",
      "\u001b[0;32m~/git_repos/ki_deutschkurs/10kGNAD/ki_deutschkurs/utils.py\u001b[0m in \u001b[0;36mcheck_password\u001b[0;34m(password)\u001b[0m\n\u001b[1;32m     43\u001b[0m         \u001b[0;32mreturn\u001b[0m \u001b[0;34m\"test\"\u001b[0m\u001b[0;34m\u001b[0m\u001b[0;34m\u001b[0m\u001b[0m\n\u001b[1;32m     44\u001b[0m     \u001b[0;32melse\u001b[0m\u001b[0;34m:\u001b[0m\u001b[0;34m\u001b[0m\u001b[0;34m\u001b[0m\u001b[0m\n\u001b[0;32m---> 45\u001b[0;31m         \u001b[0;32mraise\u001b[0m \u001b[0mValueError\u001b[0m\u001b[0;34m(\u001b[0m\u001b[0;34m\"Das Passwort ist leider falsch!\"\u001b[0m\u001b[0;34m)\u001b[0m\u001b[0;34m\u001b[0m\u001b[0;34m\u001b[0m\u001b[0m\n\u001b[0m",
      "\u001b[0;31mValueError\u001b[0m: Das Passwort ist leider falsch!"
     ]
    }
   ],
   "source": [
    "## Hier kommt der Finale Test\n",
    "\n",
    "passwort = \"\"\n",
    "\n",
    "artikel_test, kategorien_test = read_dataset(check_password(passwort), \"Sport\")\n",
    "kategorien_test_bool = get_boolean_array_from_categories(kategorien_test, \"Sport\")\n",
    "\n",
    "kategorien_vorhersage_test = classify(artikel_test, Entscheidungsregel)\n",
    "\n",
    "conf_matrix_test = confusion_matrix(kategorien_test_bool, kategorien_vorhersage_test)\n",
    "\n",
    "print(f\"Zahl der Zeitungsartikel, die richtig als Sportartikel vorhergesagt wurden: {conf_matrix_test[1,1]}\\n\")\n",
    "print(f\"Zahl der Zeitungsartikel, die richtig als 'Andere Artikel' vorhergesagt wurden: {conf_matrix_test[0,0]}\\n\")\n",
    "print(f\"Zahl der Zeitungsartikel, die eigentlich Sportartikel sind, \\n aber als 'Andere Artikel' vorhergesagt wurden: {conf_matrix_test[1,0]} (falsch)\\n\")\n",
    "print(f\"Zahl der Zeitungsartikel, die eigentlich 'Andere Artikel' sind, \\n aber als Sportartikel vorhergesagt wurden: {conf_matrix_test[0,1]} (falsch) \\n\\n\")\n",
    "print(\"=================\")\n",
    "print(f\"Anteil der Artikel, die richtig erkannt wurden: {100*(conf_matrix_test[0,0] + conf_matrix_test[1,1])/ len(artikel_test)} % (Genauigkeit)\")\n"
   ]
  }
 ],
 "metadata": {
  "kernelspec": {
   "display_name": "Python 3",
   "language": "python",
   "name": "python3"
  },
  "language_info": {
   "codemirror_mode": {
    "name": "ipython",
    "version": 3
   },
   "file_extension": ".py",
   "mimetype": "text/x-python",
   "name": "python",
   "nbconvert_exporter": "python",
   "pygments_lexer": "ipython3",
   "version": "3.6.7"
  }
 },
 "nbformat": 4,
 "nbformat_minor": 2
}
